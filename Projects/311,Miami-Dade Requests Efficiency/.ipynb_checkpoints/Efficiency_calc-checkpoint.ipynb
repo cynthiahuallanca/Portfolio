{
 "cells": [
  {
   "cell_type": "code",
   "execution_count": 1,
   "metadata": {},
   "outputs": [],
   "source": [
    "from sqlalchemy import create_engine\n",
    "from config import password\n",
    "import pymysql\n",
    "pymysql.install_as_MySQLdb()\n",
    "import pandas as pd"
   ]
  },
  {
   "cell_type": "code",
   "execution_count": null,
   "metadata": {},
   "outputs": [],
   "source": [
    "#Connect to local database\n",
    "rds_connection_string = f\"root:{password}@localhost/services_311_db\"\n",
    "engine = create_engine(f'mysql://{rds_connection_string}')"
   ]
  },
  {
   "cell_type": "code",
   "execution_count": null,
   "metadata": {},
   "outputs": [],
   "source": [
    "#Preview table to verify load worked\n",
    "service_df = pd.read_sql_query('select * from requests_311', con=engine)"
   ]
  },
  {
   "cell_type": "code",
   "execution_count": null,
   "metadata": {},
   "outputs": [],
   "source": []
  },
  {
   "cell_type": "code",
   "execution_count": null,
   "metadata": {},
   "outputs": [],
   "source": [
    "#checking incomplete tickets\n",
    "service_df.loc[(service_df['ticket_status']!='CLOSED') & (service_df['ticket_status']!='DUP')]"
   ]
  },
  {
   "cell_type": "code",
   "execution_count": null,
   "metadata": {},
   "outputs": [],
   "source": [
    "#find completed tickets and non negative completed days\n",
    "service_closed = service_df.loc[(service_df['ticket_status'] == 'CLOSED') & (service_df['actual_completed_days'] >= 0)]\n",
    "service_closed.head()"
   ]
  },
  {
   "cell_type": "code",
   "execution_count": null,
   "metadata": {},
   "outputs": [],
   "source": [
    "service_drop =service_closed[['issue_type', 'case_owner','city','location_city','actual_completed_days']]\n",
    "service_drop.head()"
   ]
  },
  {
   "cell_type": "code",
   "execution_count": null,
   "metadata": {},
   "outputs": [],
   "source": [
    "city_group = service_drop.groupby(['city', 'case_owner','issue_type'])\n",
    "df_calc = city_group.describe()\n",
    "#df_calc.head()\n",
    "df_reset = df_calc.reset_index()"
   ]
  },
  {
   "cell_type": "code",
   "execution_count": null,
   "metadata": {},
   "outputs": [],
   "source": [
    "df_reset.head()"
   ]
  },
  {
   "cell_type": "code",
   "execution_count": null,
   "metadata": {},
   "outputs": [],
   "source": [
    "#Drop multilevel index \n",
    "df_reset.columns = df_reset.columns.droplevel()\n",
    "#new_index\n",
    "#df_reset.columns.droplevel(1)\n",
    "df_reset.head()"
   ]
  },
  {
   "cell_type": "code",
   "execution_count": null,
   "metadata": {},
   "outputs": [],
   "source": []
  },
  {
   "cell_type": "code",
   "execution_count": null,
   "metadata": {},
   "outputs": [],
   "source": [
    "#rename columns\n",
    "df_reset.columns = ['city', 'case_owner', 'issue_type', 'count', 'mean', 'std', 'min', '25%', '50%', '75%', 'max']\n",
    "df_reset.head()"
   ]
  },
  {
   "cell_type": "code",
   "execution_count": null,
   "metadata": {},
   "outputs": [],
   "source": [
    "df_drop = df_reset[['city', 'case_owner', 'issue_type', 'mean']]\n",
    "#city_df = df_drop.dropna()\n",
    "city_df.head()\n",
    "#city_df.isna().any()"
   ]
  },
  {
   "cell_type": "code",
   "execution_count": null,
   "metadata": {},
   "outputs": [],
   "source": [
    "# city_df.to_sql(name='requests_calc', con=engine, if_exists='replace', index=False)"
   ]
  },
  {
   "cell_type": "code",
   "execution_count": null,
   "metadata": {},
   "outputs": [],
   "source": [
    "#check table\n",
    "# new_df = pd.read_sql_query('select * from requests_calc', con=engine)\n",
    "# new_df.head()"
   ]
  },
  {
   "cell_type": "code",
   "execution_count": null,
   "metadata": {},
   "outputs": [],
   "source": [
    "#service_drop.loc[(service_drop['issue_type'] == 'DANGEROUS DOG INVESTIGATION') & (service_drop['city'] == 'Bal_Harbour_Village')]"
   ]
  },
  {
   "cell_type": "code",
   "execution_count": null,
   "metadata": {},
   "outputs": [],
   "source": [
    "#owner_group = service_df.groupby(['city', 'case_owner'])\n",
    "#owner_group.describe()\n"
   ]
  },
  {
   "cell_type": "code",
   "execution_count": null,
   "metadata": {},
   "outputs": [],
   "source": [
    "total_group = service_drop.groupby(['location_city', 'case_owner', 'issue_type'])"
   ]
  },
  {
   "cell_type": "code",
   "execution_count": null,
   "metadata": {},
   "outputs": [],
   "source": [
    "#remove NaNs\n",
    "total_calc = total_group.describe()\n",
    "#total_calc = total_calc.dropna()"
   ]
  },
  {
   "cell_type": "code",
   "execution_count": null,
   "metadata": {},
   "outputs": [],
   "source": [
    "total_calc.head()"
   ]
  },
  {
   "cell_type": "code",
   "execution_count": null,
   "metadata": {},
   "outputs": [],
   "source": []
  },
  {
   "cell_type": "code",
   "execution_count": null,
   "metadata": {},
   "outputs": [],
   "source": [
    "#adjust and drop columns names\n",
    "total_calc_clean = total_calc.reset_index()\n",
    "total_calc_clean.columns = total_calc_clean.columns.droplevel()"
   ]
  },
  {
   "cell_type": "code",
   "execution_count": null,
   "metadata": {},
   "outputs": [],
   "source": [
    "#preview\n",
    "total_calc_clean.head()"
   ]
  },
  {
   "cell_type": "code",
   "execution_count": null,
   "metadata": {},
   "outputs": [],
   "source": [
    "#rename columns\n",
    "total_calc_clean.columns = ['location_city', 'case_owner', 'issue_type', 'count', 'mean', 'std', 'min', '25%', '50%', '75%', 'max']\n",
    "total_calc_clean.head()"
   ]
  },
  {
   "cell_type": "code",
   "execution_count": null,
   "metadata": {},
   "outputs": [],
   "source": [
    "#check for na\n",
    "total_calc_clean.isna().any()"
   ]
  },
  {
   "cell_type": "code",
   "execution_count": null,
   "metadata": {},
   "outputs": [],
   "source": [
    "#remove NA"
   ]
  },
  {
   "cell_type": "code",
   "execution_count": null,
   "metadata": {},
   "outputs": [],
   "source": [
    "#Average completed days for all of miami dade county\n",
    "total_avg = total_calc_clean[['case_owner', 'issue_type','mean']]\n",
    "total_avg_rename = total_avg.rename(columns= {'mean':'total_mean'})\n",
    "total_avg_rename.head()"
   ]
  },
  {
   "cell_type": "code",
   "execution_count": null,
   "metadata": {},
   "outputs": [],
   "source": [
    "#check for na\n",
    "total_avg.isna().any()"
   ]
  },
  {
   "cell_type": "code",
   "execution_count": null,
   "metadata": {},
   "outputs": [],
   "source": [
    "city_avg = city_df[['city','case_owner', 'issue_type','mean']]\n",
    "city_avg.head()"
   ]
  },
  {
   "cell_type": "code",
   "execution_count": null,
   "metadata": {},
   "outputs": [],
   "source": [
    "#Check location for this issue type\n",
    "city_df.loc[city_df['issue_type'] == 'ILLEGAL EXCAVATION']"
   ]
  },
  {
   "cell_type": "code",
   "execution_count": null,
   "metadata": {},
   "outputs": [],
   "source": [
    "#check location for this issue type\n",
    "total_calc_clean.loc[total_calc_clean['issue_type'] == 'ILLEGAL EXCAVATION']"
   ]
  },
  {
   "cell_type": "code",
   "execution_count": null,
   "metadata": {},
   "outputs": [],
   "source": [
    "service_df.loc[(service_df['issue_type']=='ANIMAL SERVICES DOG TAG') & (service_df['city']=='Bal_Harbour_Village')]"
   ]
  },
  {
   "cell_type": "code",
   "execution_count": null,
   "metadata": {},
   "outputs": [],
   "source": [
    "service_df.loc[(service_df['goal_days']==0) | (service_df['goal_days']==180)]\n"
   ]
  },
  {
   "cell_type": "code",
   "execution_count": null,
   "metadata": {},
   "outputs": [],
   "source": [
    "#create df for mean 0 set to 1 \n",
    "city_avg_one = city_avg[['city','case_owner','issue_type', 'mean']]\n",
    "city_avg_one.head()"
   ]
  },
  {
   "cell_type": "code",
   "execution_count": null,
   "metadata": {},
   "outputs": [],
   "source": [
    "#replace 0 mean value with 1\n",
    "city_avg_one['mean'] = city_avg_one['mean'].replace(0,1)"
   ]
  },
  {
   "cell_type": "code",
   "execution_count": null,
   "metadata": {},
   "outputs": [],
   "source": [
    "city_avg_one.head()"
   ]
  },
  {
   "cell_type": "code",
   "execution_count": null,
   "metadata": {},
   "outputs": [],
   "source": [
    "#create df with mean 0 removed\n",
    "city_avg_no_zero = city_avg.loc[city_avg['mean'] != 0]\n",
    "city_avg_no_zero.head()"
   ]
  },
  {
   "cell_type": "code",
   "execution_count": null,
   "metadata": {},
   "outputs": [],
   "source": [
    "#remove 0 mean from total avg\n",
    "total_avg_no_zero = total_avg_rename.loc[total_avg_rename['total_mean'] != 0]\n",
    "total_avg_no_zero.head()"
   ]
  },
  {
   "cell_type": "code",
   "execution_count": null,
   "metadata": {},
   "outputs": [],
   "source": [
    "#check where negative values are from DELETE THIS\n",
    "city_avg_no_zero.loc[city_avg_no_zero['mean'] < 0]\n",
    "service_df.loc[(service_df['city'] == 'Miami_Dade_County') & (service_df['issue_type'] == 'BULKY TRASH UPDATE') ]\n"
   ]
  },
  {
   "cell_type": "code",
   "execution_count": null,
   "metadata": {},
   "outputs": [],
   "source": [
    "# load to db\n",
    "total_avg_no_zero.to_sql(name='total_avg_0', con=engine, if_exists='replace', index=False)\n",
    "city_avg_no_zero.to_sql(name='city_avg_0', con=engine, if_exists='replace', index=False)"
   ]
  },
  {
   "cell_type": "code",
   "execution_count": null,
   "metadata": {},
   "outputs": [],
   "source": [
    "merge_no_zero = pd.merge(city_avg_no_zero, total_avg_no_zero, on= 'issue_type')\n",
    "#case_owner_x is from city df and case_owner_y is from total df the two are equal \n",
    "merge_no_zero\n"
   ]
  },
  {
   "cell_type": "code",
   "execution_count": null,
   "metadata": {},
   "outputs": [],
   "source": [
    "merge_no_zero['efficiency'] = (merge_no_zero['total_mean'] / merge_no_zero['mean']) * 100"
   ]
  },
  {
   "cell_type": "code",
   "execution_count": null,
   "metadata": {},
   "outputs": [],
   "source": [
    "#preview\n",
    "merge_no_zero.head()"
   ]
  },
  {
   "cell_type": "code",
   "execution_count": null,
   "metadata": {},
   "outputs": [],
   "source": [
    "#find where mean equals total mean\n",
    "merge_no_zero.loc[(merge_no_zero['mean'] == merge_no_zero['total_mean']) & (merge_no_zero['efficiency'] == 100)]"
   ]
  },
  {
   "cell_type": "code",
   "execution_count": null,
   "metadata": {},
   "outputs": [],
   "source": [
    "#remove areas with mean equal to total mean b/c there is no standard to compare with\n",
    "merge_no_zero_clean = merge_no_zero.loc[merge_no_zero['mean'] != merge_no_zero['total_mean']]\n",
    "merge_no_zero_clean.head()\n",
    "#merge_no_zero.loc[(merge_no_zero['case_owner_y'] == 'Citations_and_Tags') &(merge_no_zero['issue_type'] == 'FOUND PET')]"
   ]
  },
  {
   "cell_type": "code",
   "execution_count": null,
   "metadata": {},
   "outputs": [],
   "source": [
    "#final df\n",
    "merge_no_zero_final = merge_no_zero_clean[['city', 'case_owner_x', 'issue_type','mean', 'efficiency']]\n",
    "merge_no_zero_final.head()"
   ]
  },
  {
   "cell_type": "code",
   "execution_count": null,
   "metadata": {},
   "outputs": [],
   "source": [
    "#rename final df column\n",
    "merge_no_zero_final_rename = merge_no_zero_final.rename(columns={'case_owner_x': 'case_owner'})\n",
    "merge_no_zero_final_rename.head()"
   ]
  },
  {
   "cell_type": "code",
   "execution_count": null,
   "metadata": {},
   "outputs": [],
   "source": [
    "#check why hialeah disappeared\n",
    "merge_no_zero_final_rename.loc[merge_no_zero_final_rename['issue_type']=='SEAWALL / HEADWALL COLLAPSING']"
   ]
  },
  {
   "cell_type": "code",
   "execution_count": null,
   "metadata": {},
   "outputs": [],
   "source": [
    "#issue_type with value count of 1 have city listed as None, these were dropped hence only one occurace,\n",
    "# mean and efficiency unaffected since drop happened after calculations\n",
    "merge_no_zero_final_rename['issue_type'].value_counts()"
   ]
  },
  {
   "cell_type": "code",
   "execution_count": null,
   "metadata": {},
   "outputs": [],
   "source": [
    "#load table\n",
    "merge_no_zero_final_rename.to_sql(name='city_efficiency', con=engine, if_exists='replace', index=False)"
   ]
  },
  {
   "cell_type": "code",
   "execution_count": null,
   "metadata": {},
   "outputs": [],
   "source": [
    "#check table\n",
    "efficiency_df = pd.read_sql_query('select * from city_efficiency', con=engine)\n",
    "efficiency_df.head()"
   ]
  },
  {
   "cell_type": "code",
   "execution_count": null,
   "metadata": {},
   "outputs": [],
   "source": [
    "#Get zip code efficiency\n",
    "zip_service =service_closed[['issue_type', 'case_owner','city','location_city','zip_code','actual_completed_days']]\n",
    "zip_service.head()"
   ]
  },
  {
   "cell_type": "code",
   "execution_count": null,
   "metadata": {},
   "outputs": [],
   "source": [
    "zip_group = zip_service.groupby(['zip_code', 'case_owner','issue_type'])\n",
    "#df_calc = city_group.describe()\n",
    "#df_calc.head()\n",
    "#df_reset = df_calc.reset_index()\n",
    "zip_df = zip_group.describe()"
   ]
  },
  {
   "cell_type": "code",
   "execution_count": null,
   "metadata": {},
   "outputs": [],
   "source": [
    "zip_df.head()"
   ]
  },
  {
   "cell_type": "code",
   "execution_count": null,
   "metadata": {},
   "outputs": [],
   "source": [
    "zip_reset = zip_df.reset_index()"
   ]
  },
  {
   "cell_type": "code",
   "execution_count": null,
   "metadata": {},
   "outputs": [],
   "source": [
    "zip_reset.head()"
   ]
  },
  {
   "cell_type": "code",
   "execution_count": null,
   "metadata": {},
   "outputs": [],
   "source": [
    "#Drop multilevel index \n",
    "zip_reset.columns = zip_reset.columns.droplevel()\n",
    "#new_index\n",
    "#df_reset.columns.droplevel(1)\n",
    "zip_reset.head()"
   ]
  },
  {
   "cell_type": "code",
   "execution_count": null,
   "metadata": {},
   "outputs": [],
   "source": [
    "#rename columns\n",
    "zip_reset.columns = ['zip_code', 'case_owner', 'issue_type', 'count', 'mean', 'std', 'min', '25%', '50%', '75%', 'max']\n",
    "zip_reset.head()"
   ]
  },
  {
   "cell_type": "code",
   "execution_count": null,
   "metadata": {},
   "outputs": [],
   "source": [
    "zip_drop = zip_reset[['zip_code', 'case_owner', 'issue_type', 'mean']]\n",
    "#zip_code_df = zip_drop.dropna()\n",
    "#zip_drop.isna().any()\n",
    "zip_drop.head()"
   ]
  },
  {
   "cell_type": "code",
   "execution_count": null,
   "metadata": {},
   "outputs": [],
   "source": [
    "zip_avg_no_zero = zip_drop.loc[zip_drop['mean'] != 0]\n",
    "zip_avg_no_zero.head()"
   ]
  },
  {
   "cell_type": "code",
   "execution_count": null,
   "metadata": {},
   "outputs": [],
   "source": [
    "#load\n",
    "zip_avg_no_zero.to_sql(name='zip_avg_0', con=engine, if_exists='replace', index=False)"
   ]
  },
  {
   "cell_type": "code",
   "execution_count": null,
   "metadata": {},
   "outputs": [],
   "source": [
    "zip_merge_no_zero = pd.merge(zip_avg_no_zero, total_avg_no_zero, on= 'issue_type')\n",
    "#case_owner_x is from city df and case_owner_y is from total df the two are equal \n",
    "zip_merge_no_zero.head()"
   ]
  },
  {
   "cell_type": "code",
   "execution_count": null,
   "metadata": {},
   "outputs": [],
   "source": [
    "#Calc efficiency\n",
    "zip_merge_no_zero['efficiency'] = (zip_merge_no_zero['total_mean'] / zip_merge_no_zero['mean']) * 100"
   ]
  },
  {
   "cell_type": "code",
   "execution_count": null,
   "metadata": {},
   "outputs": [],
   "source": [
    "zip_merge_no_zero.head()"
   ]
  },
  {
   "cell_type": "code",
   "execution_count": null,
   "metadata": {},
   "outputs": [],
   "source": [
    "#remove areas with mean equal to total mean b/c there is no standard to compare with\n",
    "zip_merge_no_zero_clean = zip_merge_no_zero.loc[zip_merge_no_zero['mean'] != zip_merge_no_zero['total_mean']]\n",
    "zip_merge_no_zero_clean.head()"
   ]
  },
  {
   "cell_type": "code",
   "execution_count": null,
   "metadata": {},
   "outputs": [],
   "source": [
    "#final df\n",
    "zip_merge_no_zero_final = zip_merge_no_zero_clean[['zip_code', 'case_owner_x', 'issue_type','mean', 'efficiency']]\n",
    "zip_merge_no_zero_final.head()"
   ]
  },
  {
   "cell_type": "code",
   "execution_count": null,
   "metadata": {},
   "outputs": [],
   "source": [
    "#rename final df column\n",
    "zip_merge_no_zero_final_rename = zip_merge_no_zero_final.rename(columns={'case_owner_x': 'case_owner'})\n",
    "zip_merge_no_zero_final_rename.head()"
   ]
  },
  {
   "cell_type": "code",
   "execution_count": null,
   "metadata": {},
   "outputs": [],
   "source": [
    "#load table\n",
    "zip_merge_no_zero_final_rename.to_sql(name='zip_efficiency', con=engine, if_exists='replace', index=False)"
   ]
  },
  {
   "cell_type": "code",
   "execution_count": null,
   "metadata": {},
   "outputs": [],
   "source": [
    "#check table\n",
    "zip_efficiency_df = pd.read_sql_query('select * from zip_efficiency', con=engine)\n",
    "zip_efficiency_df.head()"
   ]
  },
  {
   "cell_type": "code",
   "execution_count": null,
   "metadata": {},
   "outputs": [],
   "source": []
  }
 ],
 "metadata": {
  "kernelspec": {
   "display_name": "Python 3",
   "language": "python",
   "name": "python3"
  },
  "language_info": {
   "codemirror_mode": {
    "name": "ipython",
    "version": 3
   },
   "file_extension": ".py",
   "mimetype": "text/x-python",
   "name": "python",
   "nbconvert_exporter": "python",
   "pygments_lexer": "ipython3",
   "version": "3.7.1"
  }
 },
 "nbformat": 4,
 "nbformat_minor": 2
}
